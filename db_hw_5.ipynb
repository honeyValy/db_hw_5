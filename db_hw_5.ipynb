{
 "cells": [
  {
   "cell_type": "code",
   "execution_count": 108,
   "id": "be38b02a",
   "metadata": {},
   "outputs": [],
   "source": [
    "import psycopg2"
   ]
  },
  {
   "cell_type": "code",
   "execution_count": 131,
   "id": "90b90e70",
   "metadata": {},
   "outputs": [],
   "source": [
    "# 1. Функция, создающая структуру БД (таблицы)"
   ]
  },
  {
   "cell_type": "code",
   "execution_count": 132,
   "id": "74226d79",
   "metadata": {},
   "outputs": [],
   "source": [
    "def req_create_table_clients():\n",
    "    \"\"\"\n",
    "    функция, которая создает запрос на создание таблицы clients\n",
    "    \"\"\"\n",
    "    clients = \"\"\"CREATE TABLE IF NOT EXISTS clients (\n",
    "                id SERIAL PRIMARY KEY,\n",
    "                first_name VARCHAR(60) NOT NULL,\n",
    "                last_name VARCHAR(100) NOT NULL,\n",
    "                email VARCHAR(60)\n",
    "                );\n",
    "                \"\"\"\n",
    "    return clients"
   ]
  },
  {
   "cell_type": "code",
   "execution_count": 133,
   "id": "b3eb626d",
   "metadata": {},
   "outputs": [],
   "source": [
    "def req_create_table_phones():\n",
    "    \"\"\"\n",
    "    функция, которая создает запрос на создание таблицы phones\n",
    "    \"\"\"\n",
    "    phones = \"\"\"CREATE TABLE IF NOT EXISTS phones (\n",
    "                id SERIAL PRIMARY KEY,\n",
    "                number VARCHAR(12) UNIQUE NOT NULL,\n",
    "                client_id INTEGER NOT NULL REFERENCES clients(id)\n",
    "                );\n",
    "                \"\"\"\n",
    "    return phones"
   ]
  },
  {
   "cell_type": "code",
   "execution_count": 134,
   "id": "4a169385",
   "metadata": {},
   "outputs": [],
   "source": [
    "def send_request(request):\n",
    "    \"\"\"\n",
    "    посылает запрос в БД\n",
    "    \"\"\"\n",
    "    data = ''\n",
    "    conn = psycopg2.connect(database='clients', user='postgres', password='postgres')\n",
    "    with conn.cursor() as cur:\n",
    "        cur.execute(request)\n",
    "        conn.commit()\n",
    "    conn.close()"
   ]
  },
  {
   "cell_type": "code",
   "execution_count": 135,
   "id": "69c7f08f",
   "metadata": {},
   "outputs": [],
   "source": [
    "def send_request_with_fetchall(request):\n",
    "    \"\"\"\n",
    "    посылает запрос в БД и возвращает последнюю запись\n",
    "    \"\"\"\n",
    "    data = ''\n",
    "    conn = psycopg2.connect(database='clients', user='postgres', password='postgres')\n",
    "    with conn.cursor() as cur:\n",
    "        cur.execute(request[0], request[1])\n",
    "        data = cur.fetchall()\n",
    "        conn.commit()\n",
    "    conn.close()\n",
    "    return data"
   ]
  },
  {
   "cell_type": "code",
   "execution_count": 136,
   "id": "96ecacd7",
   "metadata": {},
   "outputs": [],
   "source": [
    "def create_db_tables():\n",
    "    \"\"\"\n",
    "    фунция, которая создает таблицы clients и phones в БД\n",
    "    \"\"\"\n",
    "    tables_reqs = [req_create_table_clients(), req_create_table_phones()]\n",
    "    for req in tables_reqs:\n",
    "        req = create_table_clients()\n",
    "        send_request(req) "
   ]
  },
  {
   "cell_type": "code",
   "execution_count": null,
   "id": "d6b59b11",
   "metadata": {},
   "outputs": [],
   "source": [
    "# создадим БД clients\n",
    "## createdb -U postgres clients"
   ]
  },
  {
   "cell_type": "code",
   "execution_count": 6,
   "id": "c31ead2d",
   "metadata": {},
   "outputs": [],
   "source": [
    "# создадим таблицы в БД"
   ]
  },
  {
   "cell_type": "code",
   "execution_count": 137,
   "id": "db7b513a",
   "metadata": {},
   "outputs": [],
   "source": [
    "#create_db_tables()"
   ]
  },
  {
   "cell_type": "code",
   "execution_count": null,
   "id": "f47b02eb",
   "metadata": {},
   "outputs": [],
   "source": [
    "# 3. Функция, позволяющая добавить телефон для существующего клиента"
   ]
  },
  {
   "cell_type": "code",
   "execution_count": 155,
   "id": "c75cea4d",
   "metadata": {},
   "outputs": [],
   "source": [
    "def add_phone(phones, client_id):\n",
    "    \"\"\"\n",
    "    функция, которая добавляет телефон в БД \n",
    "    \"\"\"\n",
    "    for phone in phones:\n",
    "        req_add_phone = (\"\"\"INSERT INTO phones (number, client_id) VALUES (%s, %s) RETURNING id\n",
    "                    \"\"\", (phone, client_id))\n",
    "        _ = send_request_with_fetchall(req_add_phone)\n",
    "    print('Добавлен(ы) телефон(ы) ', *phones, 'для клиента client_id=', client_id)"
   ]
  },
  {
   "cell_type": "code",
   "execution_count": 149,
   "id": "0b4bbdae",
   "metadata": {},
   "outputs": [],
   "source": [
    "# 2. Функция, позволяющая добавить нового клиента"
   ]
  },
  {
   "cell_type": "code",
   "execution_count": 156,
   "id": "531d2860",
   "metadata": {},
   "outputs": [],
   "source": [
    "def add_new_client(first_name, last_name, email=None, phones=[]):\n",
    "    \"\"\"\n",
    "    функция, которая добавляет в БД нового клиента\n",
    "    \"\"\"\n",
    "    req_add_client = (\"\"\"INSERT INTO clients (first_name, last_name, email) VALUES (%s, %s, %s\n",
    "    ) RETURNING id;\n",
    "    \"\"\", (first_name, last_name, email))\n",
    "    added_id = send_request_with_fetchall(req_add_client)\n",
    "    print(f'Добавлен клиент id = {added_id[0][0]} имя = {first_name} фамилия = {last_name} email = {email} phone = {phones}')\n",
    "    if len(phones) != 0:\n",
    "        add_phone(phones, added_id[0][0])"
   ]
  },
  {
   "cell_type": "code",
   "execution_count": null,
   "id": "7f79e234",
   "metadata": {},
   "outputs": [],
   "source": [
    "# 4. Функция, позволяющая изменить данные о клиенте"
   ]
  },
  {
   "cell_type": "code",
   "execution_count": 175,
   "id": "c4bf3f5c",
   "metadata": {},
   "outputs": [],
   "source": [
    "def update_clients_info(client_id, new_first_name=None, new_last_name=None, new_email=None, old_number=None, new_number=None):\n",
    "    \"\"\"\n",
    "    функция, позволяющая изменить данные о клиенте\n",
    "    \"\"\"\n",
    "    # first_name\n",
    "    if new_first_name:\n",
    "        req_update_info = (\"\"\"UPDATE clients set first_name=%s WHERE id=%s RETURNING id, first_name\n",
    "    ;\n",
    "    \"\"\", (new_first_name, client_id))\n",
    "        back_inf = send_request_with_fetchall(req_update_info)\n",
    "        print('updated first_name = ', back_inf[0][1],', ', 'client_id = ' , back_inf[0][0])\n",
    "    # last_name\n",
    "    if new_last_name:\n",
    "        req_update_info = (\"\"\"UPDATE clients set last_name=%s WHERE id=%s RETURNING id, last_name\n",
    "    ;\n",
    "    \"\"\", (new_last_name, client_id))\n",
    "        back_inf = send_request_with_fetchall(req_update_info)\n",
    "        print('updated last_name = ', back_inf[0][1],', ', 'client_id = ' , back_inf[0][0])\n",
    "    # email\n",
    "    if new_last_name:\n",
    "        req_update_info = (\"\"\"UPDATE clients set email=%s WHERE id=%s RETURNING id, email\n",
    "    ;\n",
    "    \"\"\", (new_email, client_id))\n",
    "        back_inf = send_request_with_fetchall(req_update_info)\n",
    "        print('updated email = ', back_inf[0][1],', ', 'client_id = ' , back_inf[0][0])\n",
    "    # реализация изменения номера менно такая, тк одному кленту могут принадлежать несколько номеров\n",
    "    if old_number and new_number:\n",
    "        req_update_info = (\"\"\"UPDATE phones set number=%s WHERE number=%s RETURNING id, number\n",
    "    ;\n",
    "    \"\"\", (new_number, old_number))\n",
    "        back_inf = send_request_with_fetchall(req_update_info)\n",
    "        print(back_inf)\n",
    "        print('updated number = ', back_inf[0][1],f'old number = {old_number}, ', 'id = ' , back_inf[0][0])"
   ]
  },
  {
   "cell_type": "code",
   "execution_count": 176,
   "id": "d1f1f0c2",
   "metadata": {},
   "outputs": [],
   "source": [
    "# 4. Функция, позволяющая удалить телефон для существующего клиента"
   ]
  },
  {
   "cell_type": "code",
   "execution_count": 257,
   "id": "846334c5",
   "metadata": {},
   "outputs": [],
   "source": [
    "def delete_number(client_id=None, phone=None):\n",
    "    \"\"\"\n",
    "    функция, позволяющая удалить телефон для существующего клиента либо по номеру телефона либо для id\n",
    "    \"\"\"\n",
    "    if client_id:\n",
    "        #проверяем, что у данного клиента есть телефоны \n",
    "        req_phones_exist = (\"\"\"SELECT * FROM phones WHERE client_id=%s\n",
    "        ;\n",
    "        \"\"\", (client_id,))\n",
    "        phones = send_request_with_fetchall(req_phones_exist)\n",
    "        if phones:\n",
    "            req_delete_phones = (\"\"\"DELETE FROM phones WHERE client_id=%s RETURNING id, number\n",
    "            ;\n",
    "            \"\"\", (client_id,))\n",
    "            back_inf = send_request_with_fetchall(req_delete_phones)\n",
    "            print('deleted number(s) ',[i[1] for i in back_inf], 'for client_id = ', client_id)\n",
    "    elif phone:\n",
    "        req_phone_exist = (\"\"\"SELECT * FROM phones WHERE number=%s\n",
    "        ;\n",
    "        \"\"\", (phone,))\n",
    "        if send_request_with_fetchall(req_phone_exist):\n",
    "            req_delete_phone = (\"\"\"DELETE FROM phones WHERE number=%s RETURNING id, number, client_id\n",
    "            ;\n",
    "            \"\"\", (phone,))\n",
    "            back_inf = send_request_with_fetchall(req_delete_phone)\n",
    "            print('deleted number ',back_inf[0][1], 'for client_id = ', back_inf[0][2])        "
   ]
  },
  {
   "cell_type": "code",
   "execution_count": 192,
   "id": "4d1ec366",
   "metadata": {},
   "outputs": [],
   "source": [
    "# 6. Функция, позволяющая удалить существующего клиента"
   ]
  },
  {
   "cell_type": "code",
   "execution_count": 193,
   "id": "5009f79e",
   "metadata": {},
   "outputs": [],
   "source": [
    "def delete_client(client_id):\n",
    "    \"\"\"\n",
    "    функция, позволяющая удалить существующего клиента\n",
    "    \"\"\"\n",
    "    #для соблюдения целостности удалим все номера из таблицы phones для данного клиента\n",
    "    delete_number(client_id)\n",
    "    req_delete_client = (\"\"\"DELETE FROM clients WHERE id=%s RETURNING id\n",
    "        ;\n",
    "        \"\"\", (client_id,))\n",
    "    back_inf = send_request_with_fetchall(req_delete_client)\n",
    "    print('deleted client with client_id =' , back_inf[0][0])"
   ]
  },
  {
   "cell_type": "code",
   "execution_count": 195,
   "id": "f6a4dc0f",
   "metadata": {},
   "outputs": [],
   "source": [
    "# 7. Функция, позволяющая найти клиента по его данным (имени, фамилии, email-у или телефону)"
   ]
  },
  {
   "cell_type": "code",
   "execution_count": 235,
   "id": "290f357f",
   "metadata": {},
   "outputs": [],
   "source": [
    "def search_client(first_name=None, last_name=None, email=None, phone=None):\n",
    "    selected_inf = None\n",
    "    selected_phones = []\n",
    "    if first_name:\n",
    "        reg_select_info = (\"\"\"SELECT * FROM clients WHERE first_name=%s\n",
    "    ;\n",
    "    \"\"\", (first_name,))\n",
    "        selected_inf = send_request_with_fetchall(reg_select_info)\n",
    "    if last_name:\n",
    "        if selected_inf:\n",
    "            selected_inf = [i for i in selected_inf if i[2]==last_name]\n",
    "        else:\n",
    "            reg_select_info = (\"\"\"SELECT * FROM clients WHERE last_name=%s\n",
    "            ;\n",
    "            \"\"\", (last_name,))\n",
    "            selected_inf = send_request_with_fetchall(reg_select_info)\n",
    "            \n",
    "    if email:\n",
    "        if selected_inf:\n",
    "            selected_inf = [i for i in selected_inf if i[3]==email]\n",
    "        else:\n",
    "            reg_select_info = (\"\"\"SELECT * FROM clients WHERE email=%s\n",
    "            ;\n",
    "            \"\"\", (email,))\n",
    "            selected_inf = send_request_with_fetchall(reg_select_info) \n",
    "    if phone:\n",
    "        reg_select_info = (\"\"\"SELECT * FROM phones WHERE number=%s\n",
    "        ;\n",
    "        \"\"\", (phone,))\n",
    "        selected_phones = send_request_with_fetchall(reg_select_info)\n",
    "        if selected_phones:\n",
    "            client_id = selected_phones[0][2]\n",
    "            if selected_inf:\n",
    "                selected_inf = [i for i in selected_inf if i[0] == client_id]\n",
    "            else:\n",
    "                reg_select_info = (\"\"\"SELECT * FROM clients WHERE id=%s\n",
    "                ;\n",
    "                \"\"\", (client_id,))\n",
    "                selected_inf = send_request_with_fetchall(reg_select_info)\n",
    "\n",
    "    if not phone and selected_inf:\n",
    "        client_ids = [i[0] for i in selected_inf]\n",
    "        for client_id in client_ids:\n",
    "            reg_select_info = (\"\"\"SELECT * FROM phones WHERE client_id=%s\n",
    "            ;\n",
    "            \"\"\", (client_id,))\n",
    "            selected_phones += send_request_with_fetchall(reg_select_info)\n",
    "    \n",
    "    if not selected_inf and not selected_phones:\n",
    "        return f'Клиент имя = {first_name} фамилия = {last_name} email = {email} phone = {phone} не найден'\n",
    "    return print('client(s) = ', selected_inf,'phone(s) (id, number, client_id)=', selected_phones)"
   ]
  }
 ],
 "metadata": {
  "kernelspec": {
   "display_name": "Python 3",
   "language": "python",
   "name": "python3"
  },
  "language_info": {
   "codemirror_mode": {
    "name": "ipython",
    "version": 3
   },
   "file_extension": ".py",
   "mimetype": "text/x-python",
   "name": "python",
   "nbconvert_exporter": "python",
   "pygments_lexer": "ipython3",
   "version": "3.9.2"
  }
 },
 "nbformat": 4,
 "nbformat_minor": 5
}
